{
 "cells": [
  {
   "cell_type": "markdown",
   "metadata": {},
   "source": [
    "# Poisoning Attacks"
   ]
  },
  {
   "cell_type": "markdown",
   "metadata": {},
   "source": [
    "## Dataset Poisoning Sequential Execution 6m 24s"
   ]
  },
  {
   "cell_type": "code",
   "execution_count": 27,
   "metadata": {},
   "outputs": [
    {
     "name": "stdout",
     "output_type": "stream",
     "text": [
      "Poisoned dataset saved as IOTBOTNET2020_POISONED\\ddos\\DDOS HTTP\\DDoS_HTTP[1].csv\n",
      "Poisoned dataset saved as IOTBOTNET2020_POISONED\\dos\\dos tcp\\DoS_TCP[3].csv\n",
      "Poisoned dataset saved as IOTBOTNET2020_POISONED\\scan\\service\\Service.csv\n"
     ]
    }
   ],
   "source": [
    "import pandas as pd\n",
    "import numpy as np\n",
    "import os\n",
    "import shutil\n",
    "\n",
    "def poison_dataset(file_path, output_folder, label):\n",
    "    df = pd.read_csv(file_path)\n",
    "    \n",
    "    # Assuming we want to poison 100% of the selected files using the least frequent label\n",
    "    least_frequent_label = df[label].value_counts().idxmin()\n",
    "    df[label] = least_frequent_label\n",
    "    \n",
    "    # Ensure output folder exists\n",
    "    os.makedirs(output_folder, exist_ok=True)\n",
    "    \n",
    "    output_file_name = os.path.join(output_folder, os.path.basename(file_path))\n",
    "    df.to_csv(output_file_name, index=False)\n",
    "    print(f\"Poisoned dataset saved as {output_file_name}\")\n",
    "\n",
    "def replicate_and_poison(input_folder, output_folder, poison_percentage, label):\n",
    "    for root, dirs, files in os.walk(input_folder):\n",
    "        for name in files:\n",
    "            if name.endswith('.csv'):\n",
    "                file_path = os.path.join(root, name)\n",
    "                relative_path = os.path.relpath(root, input_folder)\n",
    "                new_output_folder = os.path.join(output_folder, relative_path)\n",
    "\n",
    "                # Check if this file should be poisoned\n",
    "                if np.random.rand() < poison_percentage / 100:\n",
    "                    poison_dataset(file_path, new_output_folder, label)\n",
    "                else:\n",
    "                    # If not poisoning, just copy the file\n",
    "                    os.makedirs(new_output_folder, exist_ok=True)\n",
    "                    shutil.copy(file_path, os.path.join(new_output_folder, name))\n",
    "\n",
    "def poison_all_files(input_folder, poison_percentage):\n",
    "    label = 'label' if 'CICIOT2023' in input_folder else 'Label'\n",
    "    output_folder = input_folder + '_POISONED'\n",
    "    \n",
    "    # Ensure the output directory does not exist to start fresh\n",
    "    if os.path.exists(output_folder):\n",
    "        shutil.rmtree(output_folder)\n",
    "    \n",
    "    csv_files = [os.path.join(dp, f) for dp, dn, filenames in os.walk(input_folder) for f in filenames if f.endswith('.csv')]\n",
    "    poison_probability = poison_percentage / 100\n",
    "\n",
    "    # Use a number of threads based on the number of CPUs\n",
    "    num_threads = multiprocessing.cpu_count()\n",
    "\n",
    "    with ThreadPoolExecutor(max_workers=num_threads) as executor:\n",
    "        executor.map(handle_file, csv_files, [output_folder]*len(csv_files), [label]*len(csv_files), [poison_probability]*len(csv_files))\n",
    "\n",
    "\n",
    "# Example usage\n",
    "input_folder = 'IOTBOTNET2020'  # or 'CICIOT2023'\n",
    "poison_percentage = 25  # Percentage of files to poison\n",
    "poison_all_files(input_folder, poison_percentage)\n"
   ]
  },
  {
   "cell_type": "markdown",
   "metadata": {},
   "source": [
    "# Dataset Poisoning Multithreaded Execution"
   ]
  },
  {
   "cell_type": "code",
   "execution_count": 1,
   "metadata": {},
   "outputs": [
    {
     "name": "stdout",
     "output_type": "stream",
     "text": [
      "Poisoned dataset saved as IOTBOTNET2020_POISONED\\theft\\data_exfiltration\\Data_Exfiltration.csv\n",
      "Poisoned dataset saved as IOTBOTNET2020_POISONED\\theft\\keylogging\\Keylogging.csv\n",
      "Poisoned dataset saved as IOTBOTNET2020_POISONED\\scan\\service\\Service.csv\n",
      "Poisoned dataset saved as IOTBOTNET2020_POISONED\\ddos\\DDOS TCP\\DDoS_TCP[1].csv\n",
      "Poisoned dataset saved as IOTBOTNET2020_POISONED\\dos\\dos tcp\\DoS_TCP[1].csv\n",
      "Poisoned dataset saved as IOTBOTNET2020_POISONED\\dos\\dos tcp\\DoS_TCP[2].csv\n",
      "Poisoned dataset saved as IOTBOTNET2020_POISONED\\ddos\\DDOS UDP\\DDoS_UDP[3].csv\n"
     ]
    }
   ],
   "source": [
    "import pandas as pd\n",
    "import numpy as np\n",
    "import os\n",
    "import shutil\n",
    "from concurrent.futures import ThreadPoolExecutor\n",
    "import multiprocessing\n",
    "\n",
    "def poison_dataset(file_path, output_folder, label):\n",
    "    df = pd.read_csv(file_path)\n",
    "    \n",
    "    # Assuming we want to poison 100% of the selected files using the least frequent label\n",
    "    least_frequent_label = df[label].value_counts().idxmin()\n",
    "    df[label] = least_frequent_label\n",
    "    \n",
    "    # Ensure output folder exists\n",
    "    os.makedirs(output_folder, exist_ok=True)\n",
    "    \n",
    "    output_file_name = os.path.join(output_folder, os.path.basename(file_path))\n",
    "    df.to_csv(output_file_name, index=False)\n",
    "    print(f\"Poisoned dataset saved as {output_file_name}\")\n",
    "\n",
    "def handle_file(file_path, output_folder, label, poison_probability):\n",
    "    relative_path = os.path.relpath(file_path, input_folder)\n",
    "    new_output_folder = os.path.join(output_folder, os.path.dirname(relative_path))\n",
    "\n",
    "    # Randomly decide whether to poison the file\n",
    "    if np.random.rand() < poison_probability:\n",
    "        poison_dataset(file_path, new_output_folder, label)\n",
    "    else:\n",
    "        # Copy the file if not poisoning\n",
    "        os.makedirs(new_output_folder, exist_ok=True)\n",
    "        shutil.copy(file_path, os.path.join(new_output_folder, os.path.basename(file_path)))\n",
    "\n",
    "def poison_all_files(input_folder, poison_percentage):\n",
    "    label = 'label' if 'CICIOT2023' in input_folder else 'Label'\n",
    "    output_folder = input_folder + '_POISONED'\n",
    "    \n",
    "    # Ensure the output directory does not exist to start fresh\n",
    "    if os.path.exists(output_folder):\n",
    "        shutil.rmtree(output_folder)\n",
    "    \n",
    "    csv_files = [os.path.join(dp, f) for dp, dn, filenames in os.walk(input_folder) for f in filenames if f.endswith('.csv')]\n",
    "    poison_probability = poison_percentage / 100\n",
    "\n",
    "    # Use a number of threads based on the number of CPUs\n",
    "    num_threads = multiprocessing.cpu_count()\n",
    "\n",
    "    with ThreadPoolExecutor(max_workers=num_threads) as executor:\n",
    "        executor.map(handle_file, csv_files, [output_folder]*len(csv_files), [label]*len(csv_files), [poison_probability]*len(csv_files))\n",
    "\n",
    "# Example usage\n",
    "input_folder = 'IOTBOTNET2020'  # or 'CICIOT2023'\n",
    "poison_percentage = 25  # Percentage of files to poison\n",
    "poison_all_files(input_folder, poison_percentage)\n"
   ]
  },
  {
   "cell_type": "markdown",
   "metadata": {},
   "source": [
    "# File Deletion"
   ]
  },
  {
   "cell_type": "code",
   "execution_count": null,
   "metadata": {},
   "outputs": [],
   "source": [
    "import os\n",
    "import random\n",
    "\n",
    "def deleteFileAttack(dataset=None, fileIndices=[], seed=42):\n",
    "    random.seed(seed)\n",
    "    \n",
    "    datasets = ['ciciot', 'iotbotnet']\n",
    "    \n",
    "    if dataset is None:\n",
    "        dataset = random.choice(datasets)\n",
    "    \n",
    "    if dataset == 'ciciot':\n",
    "        base_path = './ciciot2023/ciciot2023_archive/'\n",
    "        file_paths = [f'part-{i:05d}-363d1ba3-8ab5-4f96-bc25-4d5862db7cb9-c000.xlsx' for i in range(168)]\n",
    "    elif dataset == 'iotbotnet':\n",
    "        base_path = './iotbotnet2020_archive/'\n",
    "        file_paths = [\n",
    "            'ddos/ddos HTTP/DDoS_HTTP.csv',\n",
    "            'ddos/DDOS TCP/DDOS_TCP1.csv',\n",
    "            'ddos/DDOS TCP/DDOS_TCP2.csv',\n",
    "            'ddos/DDOS TCP/DDOS_TCP3.csv',\n",
    "            'ddos/DDOS UDP/DDOS_UDP1.csv',\n",
    "            'ddos/DDOS UDP/DDOS_UDP2.csv',\n",
    "            'ddos/DDOS UDP/DDOS_UDP3.csv',\n",
    "            'dos/dos tcp/DOS_TCP1.csv',\n",
    "            'dos/dos tcp/DOS_TCP2.csv',\n",
    "            'dos/dos tcp/DOS_TCP3.csv',\n",
    "            'dos/dos udp/DOS_UDP1.csv',\n",
    "            'dos/dos udp/DOS_UDP2.csv',\n",
    "            'dos/dos udp/DOS_UDP3.csv',\n",
    "            'dos/dos_http/DoS_HTTP.csv',\n",
    "            'scan/os/os.csv',\n",
    "            'scan/service/service.csv',\n",
    "            'theft/data_exflitration/data_exflitration.csv',\n",
    "            'theft/keylogging/KeyLogging.csv'\n",
    "        ]\n",
    "    else:\n",
    "        return\n",
    "\n",
    "    num_files = len(file_paths)\n",
    "    deletion = random.sample(file_paths, num_files)\n",
    "\n",
    "    for file_path in deletion:\n",
    "        full_path = os.path.join(base_path, file_path)\n",
    "        if os.path.exists(full_path):\n",
    "            os.remove(full_path)\n",
    "            print(f\"Deleted file: {full_path}\")\n",
    "        else:\n",
    "            print(f\"File does not exist: {full_path}\")"
   ]
  }
 ],
 "metadata": {
  "kernelspec": {
   "display_name": "Python 3",
   "language": "python",
   "name": "python3"
  },
  "language_info": {
   "codemirror_mode": {
    "name": "ipython",
    "version": 3
   },
   "file_extension": ".py",
   "mimetype": "text/x-python",
   "name": "python",
   "nbconvert_exporter": "python",
   "pygments_lexer": "ipython3",
   "version": "3.11.3"
  }
 },
 "nbformat": 4,
 "nbformat_minor": 2
}
